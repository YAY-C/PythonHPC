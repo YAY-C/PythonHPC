{
 "cells": [
  {
   "cell_type": "markdown",
   "metadata": {},
   "source": [
    "# Profiling"
   ]
  },
  {
   "cell_type": "code",
   "execution_count": 1,
   "metadata": {},
   "outputs": [],
   "source": [
    "import numpy as np"
   ]
  },
  {
   "cell_type": "code",
   "execution_count": 2,
   "metadata": {},
   "outputs": [],
   "source": [
    "def euclidean_broadcast(x, y):\n",
    "    \"\"\"Euclidean square distance matrix.\n",
    "    \n",
    "    Inputs:\n",
    "    x: (N, m) numpy array\n",
    "    y: (N, m) numpy array\n",
    "    \n",
    "    Ouput:\n",
    "    (N, N) Euclidean square distance matrix:\n",
    "    r_ij = (x_ij - y_ij)^2\n",
    "    \"\"\"\n",
    "    diff = x[:, np.newaxis, :] - y[np.newaxis, :, :]\n",
    "\n",
    "    return (diff * diff).sum(axis=2)"
   ]
  },
  {
   "cell_type": "code",
   "execution_count": 3,
   "metadata": {},
   "outputs": [],
   "source": [
    "def euclidean_trick(x, y):\n",
    "    \"\"\"Euclidean square distance matrix.\n",
    "    \n",
    "    Inputs:\n",
    "    x: (N, m) numpy array\n",
    "    y: (N, m) numpy array\n",
    "    \n",
    "    Ouput:\n",
    "    (N, N) Euclidean square distance matrix:\n",
    "    r_ij = (x_ij - y_ij)^2\n",
    "    \"\"\"\n",
    "    x2 = np.einsum('ij,ij->i', x, x)[:, np.newaxis]\n",
    "    y2 = np.einsum('ij,ij->i', y, y)[np.newaxis, :]\n",
    "\n",
    "    xy = x @ y.T\n",
    "\n",
    "    return np.abs(x2 + y2 - 2. * xy)"
   ]
  },
  {
   "cell_type": "code",
   "execution_count": 4,
   "metadata": {},
   "outputs": [],
   "source": [
    "nsamples = 2000\n",
    "nfeat = 50\n",
    "\n",
    "rng = np.random.default_rng()\n",
    "x = 10. * rng.random((nsamples, nfeat))"
   ]
  },
  {
   "cell_type": "markdown",
   "metadata": {},
   "source": [
    "## 1. `timeit`"
   ]
  },
  {
   "cell_type": "code",
   "execution_count": 5,
   "metadata": {},
   "outputs": [
    {
     "name": "stdout",
     "output_type": "stream",
     "text": [
      "1.71 s ± 4.54 ms per loop (mean ± std. dev. of 7 runs, 1 loop each)\n",
      "71.4 ms ± 344 µs per loop (mean ± std. dev. of 7 runs, 10 loops each)\n"
     ]
    }
   ],
   "source": [
    "%timeit euclidean_broadcast(x, x)\n",
    "%timeit euclidean_trick(x, x)"
   ]
  },
  {
   "cell_type": "markdown",
   "metadata": {},
   "source": [
    "## 2. `line_profiler`\n",
    "***\n",
    "much more usefull from a user prospective !!\n",
    "***"
   ]
  },
  {
   "cell_type": "code",
   "execution_count": 6,
   "metadata": {},
   "outputs": [],
   "source": [
    "%load_ext line_profiler"
   ]
  },
  {
   "cell_type": "code",
   "execution_count": 7,
   "metadata": {},
   "outputs": [
    {
     "data": {
      "text/plain": [
       "Timer unit: 1e-09 s\n",
       "\n",
       "Total time: 1.72591 s\n",
       "File: /tmp/ipykernel_3727/3677175976.py\n",
       "Function: euclidean_broadcast at line 1\n",
       "\n",
       "Line #      Hits         Time  Per Hit   % Time  Line Contents\n",
       "==============================================================\n",
       "     1                                           def euclidean_broadcast(x, y):\n",
       "     2                                               \"\"\"Euclidean square distance matrix.\n",
       "     3                                               \n",
       "     4                                               Inputs:\n",
       "     5                                               x: (N, m) numpy array\n",
       "     6                                               y: (N, m) numpy array\n",
       "     7                                               \n",
       "     8                                               Ouput:\n",
       "     9                                               (N, N) Euclidean square distance matrix:\n",
       "    10                                               r_ij = (x_ij - y_ij)^2\n",
       "    11                                               \"\"\"\n",
       "    12         1  810187721.0 810187721.0     46.9      diff = x[:, np.newaxis, :] - y[np.newaxis, :, :]\n",
       "    13                                           \n",
       "    14         1  915721650.0 915721650.0     53.1      return (diff * diff).sum(axis=2)"
      ]
     },
     "metadata": {},
     "output_type": "display_data"
    }
   ],
   "source": [
    "%lprun -f euclidean_broadcast euclidean_broadcast(x,x)"
   ]
  },
  {
   "cell_type": "code",
   "execution_count": 8,
   "metadata": {},
   "outputs": [
    {
     "data": {
      "text/plain": [
       "Timer unit: 1e-09 s\n",
       "\n",
       "Total time: 0.0604921 s\n",
       "File: /tmp/ipykernel_3727/2952558958.py\n",
       "Function: euclidean_trick at line 1\n",
       "\n",
       "Line #      Hits         Time  Per Hit   % Time  Line Contents\n",
       "==============================================================\n",
       "     1                                           def euclidean_trick(x, y):\n",
       "     2                                               \"\"\"Euclidean square distance matrix.\n",
       "     3                                               \n",
       "     4                                               Inputs:\n",
       "     5                                               x: (N, m) numpy array\n",
       "     6                                               y: (N, m) numpy array\n",
       "     7                                               \n",
       "     8                                               Ouput:\n",
       "     9                                               (N, N) Euclidean square distance matrix:\n",
       "    10                                               r_ij = (x_ij - y_ij)^2\n",
       "    11                                               \"\"\"\n",
       "    12         1     335442.0 335442.0      0.6      x2 = np.einsum('ij,ij->i', x, x)[:, np.newaxis]\n",
       "    13         1     142376.0 142376.0      0.2      y2 = np.einsum('ij,ij->i', y, y)[np.newaxis, :]\n",
       "    14                                           \n",
       "    15         1   17433926.0 17433926.0     28.8      xy = x @ y.T\n",
       "    16                                           \n",
       "    17         1   42580363.0 42580363.0     70.4      return np.abs(x2 + y2 - 2. * xy)"
      ]
     },
     "metadata": {},
     "output_type": "display_data"
    }
   ],
   "source": [
    "%lprun -f euclidean_trick euclidean_trick(x, x)"
   ]
  },
  {
   "cell_type": "markdown",
   "metadata": {
    "tags": []
   },
   "source": [
    "## 3. `cProfile`\n",
    "***\n",
    " Nice that it can be integrated tu jupyter notebook, use `snakeviz` for nice and thourough vizualusation\n",
    " ***"
   ]
  },
  {
   "cell_type": "code",
   "execution_count": 9,
   "metadata": {},
   "outputs": [
    {
     "name": "stdout",
     "output_type": "stream",
     "text": [
      " "
     ]
    },
    {
     "data": {
      "text/plain": [
       "<pstats.Stats at 0x155548169d90>"
      ]
     },
     "execution_count": 9,
     "metadata": {},
     "output_type": "execute_result"
    },
    {
     "data": {
      "text/plain": [
       "         22 function calls in 0.074 seconds\n",
       "\n",
       "   Ordered by: internal time\n",
       "\n",
       "   ncalls  tottime  percall  cumtime  percall filename:lineno(function)\n",
       "        1    0.071    0.071    0.071    0.071 2952558958.py:1(euclidean_trick)\n",
       "        1    0.003    0.003    0.074    0.074 <string>:1(<module>)\n",
       "        2    0.000    0.000    0.000    0.000 {built-in method numpy.core._multiarray_umath.c_einsum}\n",
       "        1    0.000    0.000    0.074    0.074 {built-in method builtins.exec}\n",
       "        2    0.000    0.000    0.001    0.000 {built-in method numpy.core._multiarray_umath.implement_array_function}\n",
       "        2    0.000    0.000    0.001    0.000 <__array_function__ internals>:177(einsum)\n",
       "        2    0.000    0.000    0.001    0.000 einsumfunc.py:1009(einsum)\n",
       "       10    0.000    0.000    0.000    0.000 einsumfunc.py:1001(_einsum_dispatcher)\n",
       "        1    0.000    0.000    0.000    0.000 {method 'disable' of '_lsprof.Profiler' objects}"
      ]
     },
     "metadata": {},
     "output_type": "display_data"
    }
   ],
   "source": [
    "%prun -r euclidean_trick(x, x)"
   ]
  },
  {
   "cell_type": "code",
   "execution_count": null,
   "metadata": {},
   "outputs": [],
   "source": []
  }
 ],
 "metadata": {
  "kernelspec": {
   "display_name": "hpcpy2023",
   "language": "python",
   "name": "hpcpy2023"
  },
  "language_info": {
   "codemirror_mode": {
    "name": "ipython",
    "version": 3
   },
   "file_extension": ".py",
   "mimetype": "text/x-python",
   "name": "python",
   "nbconvert_exporter": "python",
   "pygments_lexer": "ipython3",
   "version": "3.9.4"
  }
 },
 "nbformat": 4,
 "nbformat_minor": 4
}
