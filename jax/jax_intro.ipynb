{
 "cells": [
  {
   "cell_type": "markdown",
   "id": "a91a759c",
   "metadata": {},
   "source": [
    "# Introduction to [JAX](https://github.com/google/jax)"
   ]
  },
  {
   "cell_type": "code",
   "execution_count": 1,
   "id": "c98b942e",
   "metadata": {},
   "outputs": [],
   "source": [
    "from contextlib import contextmanager\n",
    "from timeit import default_timer\n",
    "\n",
    "@contextmanager\n",
    "def cpu_timer():\n",
    "    start = default_timer()\n",
    "    yield\n",
    "    end = default_timer()\n",
    "    print(f'Elapsed time: {(end - start) * 1000} ms')"
   ]
  },
  {
   "cell_type": "markdown",
   "id": "6f4fa1cb",
   "metadata": {},
   "source": [
    "## NumPy functionality with JAX"
   ]
  },
  {
   "cell_type": "code",
   "execution_count": 2,
   "id": "aae3e5a7",
   "metadata": {},
   "outputs": [],
   "source": [
    "import os\n",
    "os.environ['JAX_ENABLE_X64']='True'\n",
    "\n",
    "#os.environ['XLA_PYTHON_CLIENT_PREALLOCATE']='false'\n",
    "import numpy as np\n",
    "import jax.numpy as jnp\n",
    "import jax"
   ]
  },
  {
   "cell_type": "code",
   "execution_count": 3,
   "id": "1b74fbce",
   "metadata": {},
   "outputs": [],
   "source": [
    "x = jnp.arange(10)\n",
    "y = jnp.arange(10, 20)\n",
    "z = x + y"
   ]
  },
  {
   "cell_type": "markdown",
   "id": "07acf5d8",
   "metadata": {},
   "source": [
    "#### Euclidean distance matrix\n",
    "\n",
    "$\n",
    "    d_e(\\mathbf x, \\mathbf y) =\n",
    "    \\begin{bmatrix}\n",
    "    \\sum_{i=1}^n (x_{1i}-y_{1i})^2 & \\sum_{i=1}^n(x_{1i}-y_{2i})^2 & \\cdots & \\sum_{i=1}^n (x_{1i}-y_{ni})^2 \\\\  \n",
    "    \\sum_{i=1}^n(x_{2i}-y_{1i})^2 & \\sum_{i=1}^n(x_{2i}-y_{2i})^2 & \\cdots & \\sum_{i=1}^n(x_{2i}-y_{ni})^2 \\\\  \n",
    "    \\vdots & \\vdots & \\ddots & \\vdots \\\\\n",
    "    \\sum_{i=1}^n(x_{ni}-y_{1i})^2 & \\sum_{i=1}^n(x_{ni}-y_{2i})^2 & \\cdots & \\sum_{i=1}^n(x_{ni}-y_{ni})^2 \\\\  \n",
    "    \\end{bmatrix}\n",
    "$\n",
    "\n",
    "#### Vectorization friendly summation \n",
    "$ \n",
    "\\sum_{k=1}^n \\left(x_{ik}-y_{jk}\\right)^2 = \\left(\\vec{x_i} - \\vec {y_j}\\right)\\cdot \\left(\\vec{x_i} - \\vec{y_j}\\right)=\\vec{x_i} \\cdot \\vec{x_i} + \\vec{y_j} \\cdot \\vec{y_j} -2\\vec{x_i}\\cdot \\vec{y_j}$\n"
   ]
  },
  {
   "cell_type": "code",
   "execution_count": 4,
   "id": "f3f941dc",
   "metadata": {},
   "outputs": [],
   "source": [
    "def euclidean_distance_cpu(x, y):\n",
    "    x2 = np.einsum('ij,ij->i', x, x)[:, np.newaxis]\n",
    "    y2 = np.einsum('ij,ij->i', y, y)[np.newaxis, :]\n",
    "    xy = x @ y.T\n",
    "    return np.abs(x2 + y2 - 2.0 * xy)\n",
    "\n",
    "def euclidean_distance_jax(x, y):\n",
    "    x2 = jnp.einsum('ij,ij->i', x, x)[:, jnp.newaxis]\n",
    "    y2 = jnp.einsum('ij,ij->i', y, y)[jnp.newaxis, :]\n",
    "    xy = x @ y.T\n",
    "    return jnp.abs(x2 + y2 - 2.0 * xy)"
   ]
  },
  {
   "cell_type": "code",
   "execution_count": 6,
   "id": "f057d56b",
   "metadata": {},
   "outputs": [
    {
     "name": "stdout",
     "output_type": "stream",
     "text": [
      "Elapsed time: 837.2258408926427 ms\n",
      "Elapsed time: 62.62879096902907 ms\n"
     ]
    }
   ],
   "source": [
    "np_rng = np.random.default_rng()\n",
    "x_cpu = np_rng.random((5000, 4000))\n",
    "y_cpu = np_rng.random((5000, 4000))\n",
    "x_gpu = jax.device_put(x_cpu).block_until_ready()\n",
    "y_gpu = jax.device_put(y_cpu).block_until_ready()\n",
    "\n",
    "with cpu_timer():\n",
    "    eu_cpu = euclidean_distance_cpu(x_cpu, y_cpu)\n",
    "\n",
    "with cpu_timer():\n",
    "    eu_jax = euclidean_distance_jax(x_gpu, y_gpu).block_until_ready()\n",
    "    \n",
    "    \n",
    "assert np.allclose(eu_cpu, jax.device_get(eu_jax))"
   ]
  },
  {
   "cell_type": "markdown",
   "id": "1c1079c7",
   "metadata": {},
   "source": [
    "### Immutability of JAX arrays"
   ]
  },
  {
   "cell_type": "code",
   "execution_count": 7,
   "id": "5c67483d",
   "metadata": {},
   "outputs": [
    {
     "data": {
      "text/plain": [
       "Array([ 1.,  2., 10.,  4.], dtype=float64)"
      ]
     },
     "execution_count": 7,
     "metadata": {},
     "output_type": "execute_result"
    }
   ],
   "source": [
    "A = jnp.array([1., 2., 3., 4.])\n",
    "B = jnp.array([2., 3., 4., 5.])\n",
    "\n",
    "# This is not allowed\n",
    "#A[2] = 10.0\n",
    "\n",
    "A.at[2].set(10.0)"
   ]
  },
  {
   "cell_type": "code",
   "execution_count": 8,
   "id": "34b91aa9",
   "metadata": {},
   "outputs": [
    {
     "name": "stdout",
     "output_type": "stream",
     "text": [
      "[1. 2. 3. 4.]\n"
     ]
    }
   ],
   "source": [
    "print(A)"
   ]
  },
  {
   "cell_type": "markdown",
   "id": "bdb8c560",
   "metadata": {},
   "source": [
    "### Random number generation"
   ]
  },
  {
   "cell_type": "code",
   "execution_count": null,
   "id": "2b4e0202",
   "metadata": {},
   "outputs": [],
   "source": [
    "key = jax.random.PRNGKey(0)\n",
    "x = jax.random.uniform(key, (2, 2))\n",
    "y = jax.random.uniform(key,(2, 2))\n",
    "print(x)\n",
    "print(y)"
   ]
  },
  {
   "cell_type": "code",
   "execution_count": null,
   "id": "18cc3453",
   "metadata": {},
   "outputs": [],
   "source": [
    "key = jax.random.PRNGKey(0)\n",
    "key, subkey = jax.random.split(key)\n",
    "\n",
    "x = jax.random.uniform(key, (2, 2))\n",
    "y = jax.random.uniform(subkey, (2, 2))\n",
    "print(x)\n",
    "print(y)"
   ]
  },
  {
   "cell_type": "markdown",
   "id": "7f867954",
   "metadata": {},
   "source": [
    "### Scaled Exponential Linear Unit (SELU) [Klambauer et al., 2017](https://arxiv.org/abs/1706.02515)\n",
    "\n",
    "\n",
    "$$\n",
    "f(x) =  \\left\\{\n",
    "\\begin{array}{ll}\n",
    "      \\lambda x & if & x \\gt 0 \\\\\n",
    "      \\lambda \\alpha (e^x - 1) & if & x \\le 0 \n",
    "\\end{array} \\right.\n",
    "$$\n",
    "\n",
    "$$\n",
    "\\begin{array}{ll}\n",
    "    \\alpha \\simeq 1.67326 \\\\\n",
    "    \\lambda \\simeq 1.050701\n",
    "\\end{array}\n",
    "$$"
   ]
  },
  {
   "cell_type": "code",
   "execution_count": 21,
   "id": "71e139f9",
   "metadata": {
    "scrolled": true
   },
   "outputs": [
    {
     "name": "stdout",
     "output_type": "stream",
     "text": [
      "SELU Cpu: Elapsed time: 275.03279806114733 ms\n",
      "SELU Gpu: Elapsed time: 62.50682892277837 ms\n"
     ]
    },
    {
     "data": {
      "image/png": "[encoded data removed]",
      "text/plain": [
       "<Figure size 640x480 with 1 Axes>"
      ]
     },
     "metadata": {},
     "output_type": "display_data"
    }
   ],
   "source": [
    "import matplotlib.pyplot as plt\n",
    "from math import erfc, sqrt, exp, pi, e\n",
    "import jax.numpy as jp\n",
    "import jax\n",
    "x_cpu = np.linspace(-10.0, 10.0, 10_000_000)\n",
    "\n",
    "\n",
    "alpha =  - sqrt(2.0 / pi) / (erfc(1 / sqrt(2)) * exp(1/2) - 1)\n",
    "scale = (\n",
    "    (1 - erfc(1 / sqrt(2)) * sqrt(e)) * sqrt(2 * pi) / \n",
    "    sqrt(2 * erfc(sqrt(2)) * e ** 2 + pi * e * erfc(1/sqrt(2)) ** 2 \n",
    "         - 2 * (2 + pi)* erfc(1 / sqrt(2))*sqrt(e) + pi + 2)\n",
    ")\n",
    "\n",
    "def selu_cpu(x, a=alpha, l=scale):\n",
    "    return np.where(x > 0, l * x, l * (a * np.exp(x) - a))\n",
    "\n",
    "def selu_gpu(x, a=alpha, l=scale):\n",
    "    return jp.where(x > 0, l * x, l * (a * jp.exp(x) - a))\n",
    "\n",
    "print('SELU Cpu: ', end='')\n",
    "with cpu_timer():\n",
    "    s_cpu = selu_cpu(x_cpu)\n",
    "    \n",
    "x_gpu = jax.device_put(x_cpu).block_until_ready()\n",
    "\n",
    "print('SELU Gpu: ', end='')\n",
    "with cpu_timer():\n",
    "    s_gpu = selu_gpu(x_cpu).block_until_ready()\n",
    "\n",
    "# Similar Functinality with cupy\n",
    "'''\n",
    "import cupy as cp\n",
    "#x_gpu = cp.array(x_cpu)\n",
    "selu_kernel = cp.ElementwiseKernel(\n",
    "    'float64 X, float64 a, float64 l',\n",
    "    'float64 selu',\n",
    "    f'selu = X > 0 ? l * X : l * (a * exp(X) - a);', \n",
    "    'selu_kernel')\n",
    "    \n",
    "@cp.fuse\n",
    "def selu_fused(x, a=alpha, l=scale):\n",
    "    return cp.where(x > 0, l * x, l * (a * cp.exp(x) - a))\n",
    "\n",
    "print('SELU Cpu: ', end='')\n",
    "with cpu_timer():\n",
    "    s_cpu = selu_cpu(x_cpu)\n",
    "    \n",
    "print('SELU Fused: ', end='')\n",
    "with cupy_timer():\n",
    "    s_gpu_fused = selu_fused(x_gpu)\n",
    "    \n",
    "print('SELU Kernel: ', end='')\n",
    "with cupy_timer():\n",
    "    s_gpu_kernel = selu_kernel(x_gpu, alpha, scale)\n",
    "    \n",
    "assert(np.allclose(s_cpu, s_gpu_fused.get()))\n",
    "'''\n",
    "\n",
    "plt.close('all')\n",
    "fig = plt.figure()\n",
    "ax = fig.add_subplot(111)\n",
    "ax.plot(x_cpu, s_cpu, '--');\n",
    "ax.set_title('SELU function', )\n",
    "ax.set_xlabel('x')\n",
    "ax.set_ylabel('y(x)')\n",
    "ax.grid('Both');"
   ]
  },
  {
   "cell_type": "markdown",
   "id": "33374976",
   "metadata": {},
   "source": [
    "### (Exercise) Do the same with JAX and measure the performance"
   ]
  },
  {
   "cell_type": "markdown",
   "id": "c0abd0ed-947d-4e1b-a84e-a23d8b010d19",
   "metadata": {},
   "source": [
    "#### Using Gradient computation with `JAX`"
   ]
  },
  {
   "cell_type": "code",
   "execution_count": 27,
   "id": "73591952-decc-4e70-8db7-2a0a7c51f806",
   "metadata": {},
   "outputs": [
    {
     "data": {
      "text/plain": [
       "[<matplotlib.lines.Line2D at 0x1552cc5d7730>]"
      ]
     },
     "execution_count": 27,
     "metadata": {},
     "output_type": "execute_result"
    },
    {
     "data": {
      "image/png": "[encoded data removed]",
      "text/plain": [
       "<Figure size 640x480 with 1 Axes>"
      ]
     },
     "metadata": {},
     "output_type": "display_data"
    }
   ],
   "source": [
    "import matplotlib.pyplot as plt\n",
    "import jax.numpy as jnp\n",
    "import jax\n",
    "\n",
    "def fun1(x):\n",
    "    return jnp.log(x)\n",
    "\n",
    "x = jnp.linspace(0, 10, 100)\n",
    "y = fun1(x)\n",
    "\n",
    "y1 = jax.grad(fun1)\n",
    "y2 = jax.grad(y1)\n",
    "\n",
    "plt.ylim(-10, 10)\n",
    "plt.plot(x, y)\n",
    "plt.plot(x, jax.vmap(y1)(x))\n",
    "plt.plot(x, jax.vmap(y2)(x))"
   ]
  },
  {
   "cell_type": "code",
   "execution_count": null,
   "id": "4c9134fc-7238-4419-a7b6-1fa39c10e8b4",
   "metadata": {},
   "outputs": [],
   "source": []
  }
 ],
 "metadata": {
  "kernelspec": {
   "display_name": "hpcpy2023",
   "language": "python",
   "name": "hpcpy2023"
  },
  "language_info": {
   "codemirror_mode": {
    "name": "ipython",
    "version": 3
   },
   "file_extension": ".py",
   "mimetype": "text/x-python",
   "name": "python",
   "nbconvert_exporter": "python",
   "pygments_lexer": "ipython3",
   "version": "3.9.4"
  }
 },
 "nbformat": 4,
 "nbformat_minor": 5
}
