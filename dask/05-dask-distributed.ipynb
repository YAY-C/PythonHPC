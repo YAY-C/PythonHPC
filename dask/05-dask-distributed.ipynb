{
 "cells": [
  {
   "cell_type": "markdown",
   "id": "9996b927-a31e-43ee-984b-a38faad8049d",
   "metadata": {
    "tags": []
   },
   "source": [
    "# Running a `dask.distribute` example with multiple nodes\n",
    "\n",
    "Here we pass the `--dask` option to `%ipcluster start` to create a multi-node dask cluster.\n",
    "Then, using `dask.array` we compute the sum of some of the elements of a 1.82TB-large array of random numbers (`N = 500_000`)."
   ]
  },
  {
   "cell_type": "code",
   "execution_count": null,
   "id": "ddf8389b-d465-4618-a4ea-802458a31b47",
   "metadata": {},
   "outputs": [],
   "source": [
    "import ipcmagic\n",
    "import dask.array as da"
   ]
  },
  {
   "cell_type": "code",
   "execution_count": null,
   "id": "c70d37d1-d185-4df3-861d-155da7da83d0",
   "metadata": {},
   "outputs": [],
   "source": [
    "%ipcluster start -n 12 --dask"
   ]
  },
  {
   "cell_type": "code",
   "execution_count": null,
   "id": "3991a7e0-111a-49a6-b8a9-a27d4fa95056",
   "metadata": {},
   "outputs": [],
   "source": [
    "N = 50_000\n",
    "x = da.random.random((N, N))  #, chunks=(N / 500, 1000))\n",
    "x"
   ]
  },
  {
   "cell_type": "code",
   "execution_count": null,
   "id": "5a9b2134-213f-4a27-ad3b-98a387df5c08",
   "metadata": {},
   "outputs": [],
   "source": [
    "%%time\n",
    "result = x[::2, ::2].mean().compute()"
   ]
  },
  {
   "cell_type": "code",
   "execution_count": null,
   "id": "1b933a0e-2198-451d-b536-af533be742af",
   "metadata": {},
   "outputs": [],
   "source": [
    "result"
   ]
  },
  {
   "cell_type": "code",
   "execution_count": null,
   "id": "19abd8f2-b0c4-4cee-85ae-4ce409c76f30",
   "metadata": {},
   "outputs": [],
   "source": [
    "%%px\n",
    "import socket           # the %%px operations on the ipcluster are still available\n",
    "                        # even when the dask cluster is active\n",
    "socket.gethostname()"
   ]
  },
  {
   "cell_type": "code",
   "execution_count": null,
   "id": "d90bcd04-333d-453f-a30e-68b7bf10873b",
   "metadata": {},
   "outputs": [],
   "source": [
    "client.close()"
   ]
  },
  {
   "cell_type": "code",
   "execution_count": null,
   "id": "becfd05d-c365-449e-874b-c5cde58d6de8",
   "metadata": {},
   "outputs": [],
   "source": [
    "%ipcluster stop"
   ]
  }
 ],
 "metadata": {
  "kernelspec": {
   "display_name": "hpcpy2023",
   "language": "python",
   "name": "hpcpy2023"
  },
  "language_info": {
   "codemirror_mode": {
    "name": "ipython",
    "version": 3
   },
   "file_extension": ".py",
   "mimetype": "text/x-python",
   "name": "python",
   "nbconvert_exporter": "python",
   "pygments_lexer": "ipython3",
   "version": "3.9.4"
  }
 },
 "nbformat": 4,
 "nbformat_minor": 5
}
