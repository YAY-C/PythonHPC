{
 "cells": [
  {
   "cell_type": "markdown",
   "id": "86b84834-b048-4832-bd49-f49c29d4fdfb",
   "metadata": {
    "tags": []
   },
   "source": [
    "## OSU G2G Bandwidth Benchmark with MPI4Py\n",
    "In this example we use [IPCMagic](https://github.com/eth-cscs/ipcluster_magic/tree/master) to run a test from the [OSU Bandwidth benchmark](http://mvapich.cse.ohio-state.edu/benchmarks/) with MPI4Py from a Jupyter notebook.\n",
    "Using [this example](https://mpi4py.readthedocs.io/en/stable/tutorial.html#cuda-aware-mpi-python-gpu-arrays), we adapted the [osu_bw.py](https://github.com/mpi4py/mpi4py/blob/d0228f0397403ff73d8f41d90d97b411efda6128/demo/osu_bw.py) script from the MPI4Py repository so it uses an array allocated on the GPU.\n",
    "\n",
    "* From a shell in Piz Daint this can be run using this Slurm job script:\n",
    " \n",
    "```\n",
    "#!/bin/bash -l\n",
    "\n",
    "#SBATCH --job-name=osubw\n",
    "#SBATCH --time=00:05:00\n",
    "#SBATCH --nodes=2\n",
    "#SBATCH --ntasks-per-core=1\n",
    "#SBATCH --ntasks-per-node=1\n",
    "#SBATCH --cpus-per-task=12\n",
    "#SBATCH --partition=normal\n",
    "#SBATCH --constraint=gpu\n",
    "#SBATCH --account=<project>\n",
    "\n",
    "# source python environment with cupy and mpi4py\n",
    "\n",
    "export MPICH_RDMA_ENABLED_CUDA=1\n",
    "\n",
    "srun python osu_bw_cupy.py\n",
    "```"
   ]
  },
  {
   "cell_type": "code",
   "execution_count": 1,
   "id": "b55135ce-b328-4d73-b498-d8369ead8380",
   "metadata": {},
   "outputs": [],
   "source": [
    "import os\n",
    "import ipcmagic"
   ]
  },
  {
   "cell_type": "code",
   "execution_count": 2,
   "id": "64b6492d-1dbd-441d-95fa-7eb1717e0bdb",
   "metadata": {},
   "outputs": [],
   "source": [
    "os.environ['MPICH_RDMA_ENABLED_CUDA'] = '1'  # Enable direct communication between GPUs"
   ]
  },
  {
   "cell_type": "code",
   "execution_count": 3,
   "id": "79928bb7-8091-458f-b438-b66e1af23a8b",
   "metadata": {},
   "outputs": [
    {
     "name": "stdout",
     "output_type": "stream",
     "text": [
      "1.1.0\n"
     ]
    }
   ],
   "source": [
    "%ipcluster --version"
   ]
  },
  {
   "cell_type": "code",
   "execution_count": 4,
   "id": "a7d237d6-f385-49c6-9bad-323ba3c2d7a6",
   "metadata": {},
   "outputs": [
    {
     "name": "stdout",
     "output_type": "stream",
     "text": [
      "100%|██████████| 2/2 [00:09<00:00,  4.68s/engine]\n"
     ]
    }
   ],
   "source": [
    "%ipcluster start -n 2"
   ]
  },
  {
   "cell_type": "code",
   "execution_count": 5,
   "id": "cbaea7a2-4171-438d-8ad9-3a00411fd007",
   "metadata": {},
   "outputs": [],
   "source": [
    "# Disable IPyParallel's progress bar\n",
    "%pxconfig --progress-after -1"
   ]
  },
  {
   "cell_type": "code",
   "execution_count": 6,
   "id": "12b975be-ceed-412d-9117-b3d8b7904549",
   "metadata": {},
   "outputs": [
    {
     "data": {
      "text/plain": [
       "\u001b[0;31mOut[1:1]: \u001b[0m'nid02239'"
      ]
     },
     "metadata": {
      "after": null,
      "completed": null,
      "data": {},
      "engine_id": 1,
      "engine_uuid": "b33fb61c-6806bd5ac51adaba76f51fa3",
      "error": null,
      "execute_input": "import socket\n\nsocket.gethostname()\n",
      "execute_result": {
       "data": {
        "text/plain": "'nid02239'"
       },
       "execution_count": 1,
       "metadata": {}
      },
      "follow": null,
      "msg_id": null,
      "outputs": [],
      "received": null,
      "started": null,
      "status": null,
      "stderr": "",
      "stdout": "",
      "submitted": "2023-06-23T08:48:30.891658Z"
     },
     "output_type": "display_data"
    },
    {
     "data": {
      "text/plain": [
       "\u001b[0;31mOut[0:1]: \u001b[0m'nid02238'"
      ]
     },
     "metadata": {
      "after": null,
      "completed": null,
      "data": {},
      "engine_id": 0,
      "engine_uuid": "0616b355-91a799ccc1ba0216eaea79dd",
      "error": null,
      "execute_input": "import socket\n\nsocket.gethostname()\n",
      "execute_result": {
       "data": {
        "text/plain": "'nid02238'"
       },
       "execution_count": 1,
       "metadata": {}
      },
      "follow": null,
      "msg_id": null,
      "outputs": [],
      "received": null,
      "started": null,
      "status": null,
      "stderr": "",
      "stdout": "",
      "submitted": "2023-06-23T08:48:30.891469Z"
     },
     "output_type": "display_data"
    }
   ],
   "source": [
    "%%px     ## for remote command to be exectued by each server on each desired node !!\n",
    "import socket\n",
    "\n",
    "socket.gethostname()"
   ]
  },
  {
   "cell_type": "code",
   "execution_count": 7,
   "id": "d81d6c89-d339-45ac-aff7-88a11558ce15",
   "metadata": {},
   "outputs": [],
   "source": [
    "%%px\n",
    "from osu_bw_cupy import osu_bw"
   ]
  },
  {
   "cell_type": "code",
   "execution_count": 8,
   "id": "8ebf8f80-37b1-4d74-a911-33c1a32a461d",
   "metadata": {},
   "outputs": [
    {
     "data": {
      "text/plain": [
       "[stdout:0] # MPI G2G Bandwidth Test\n",
       "# Size [B]    Bandwidth [MB/s]\n",
       "1                         0.16\n",
       "2                         0.32\n",
       "4                         0.62\n",
       "8                         1.30\n",
       "16                        2.40\n",
       "32                        5.16\n",
       "64                        9.53\n",
       "128                      18.44\n",
       "256                      37.60\n",
       "512                      83.04\n",
       "1024                    166.59\n",
       "2048                    332.79\n",
       "4096                    630.79\n",
       "8192                   1094.84\n",
       "16384                  1754.34\n",
       "32768                  2483.58\n",
       "65536                  4585.42\n",
       "131072                 6161.99\n",
       "262144                 7189.73\n",
       "524288                 7866.56\n",
       "1048576                8276.83\n",
       "2097152                8518.70\n",
       "4194304                8650.03\n"
      ]
     },
     "metadata": {},
     "output_type": "display_data"
    }
   ],
   "source": [
    "%%px\n",
    "osu_bw()"
   ]
  },
  {
   "cell_type": "code",
   "execution_count": null,
   "id": "1cb656f2-2367-405a-9173-d79fe53281a0",
   "metadata": {},
   "outputs": [],
   "source": [
    "%ipcluster stop"
   ]
  }
 ],
 "metadata": {
  "kernelspec": {
   "display_name": "hpcpy2023",
   "language": "python",
   "name": "hpcpy2023"
  },
  "language_info": {
   "codemirror_mode": {
    "name": "ipython",
    "version": 3
   },
   "file_extension": ".py",
   "mimetype": "text/x-python",
   "name": "python",
   "nbconvert_exporter": "python",
   "pygments_lexer": "ipython3",
   "version": "3.9.4"
  }
 },
 "nbformat": 4,
 "nbformat_minor": 5
}
