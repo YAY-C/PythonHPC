{
 "cells": [
  {
   "cell_type": "markdown",
   "metadata": {},
   "source": [
    "# Additional Cython Features"
   ]
  },
  {
   "cell_type": "markdown",
   "metadata": {},
   "source": [
    "## Automatic Type Inference Using Cython's `infer_types`"
   ]
  },
  {
   "cell_type": "code",
   "execution_count": null,
   "metadata": {},
   "outputs": [],
   "source": [
    "import numpy as np\n",
    "from random import random\n",
    "import Cython\n",
    "\n",
    "%load_ext Cython"
   ]
  },
  {
   "cell_type": "code",
   "execution_count": null,
   "metadata": {
    "scrolled": true
   },
   "outputs": [],
   "source": [
    "%%cython -a\n",
    "\n",
    "from random import random\n",
    "from cython cimport infer_types\n",
    "\n",
    "cdef inline double my_rand():\n",
    "    return random()\n",
    "\n",
    "@infer_types(True)\n",
    "cpdef pi_mc_inferred(n=1000):\n",
    "    '''Calculate PI using Monte Carlo method'''\n",
    "    in_circle = 0\n",
    "    for i in range(n):\n",
    "        x = my_rand()\n",
    "        y = my_rand()\n",
    "        if x * x + y * y <= 1.0:\n",
    "            in_circle += 1\n",
    "        \n",
    "    return 4.0 * in_circle / n"
   ]
  },
  {
   "cell_type": "code",
   "execution_count": null,
   "metadata": {},
   "outputs": [],
   "source": [
    "%time pi_mc_inferred(10000)"
   ]
  },
  {
   "cell_type": "markdown",
   "metadata": {},
   "source": [
    "## Cython Extensions Types"
   ]
  },
  {
   "cell_type": "code",
   "execution_count": null,
   "metadata": {},
   "outputs": [],
   "source": [
    "class PyRectangle:\n",
    "    def __init__(self, x, y):\n",
    "        self.x = x\n",
    "        self.y = y\n",
    "    \n",
    "    def area(self):\n",
    "        return self.x * self.y\n",
    "    \n",
    "    def perimeter(self):\n",
    "        return 2.0 * (self.x + self.y)"
   ]
  },
  {
   "cell_type": "code",
   "execution_count": null,
   "metadata": {
    "scrolled": false
   },
   "outputs": [],
   "source": [
    "%%cython \n",
    "\n",
    "cdef class CyRectangle:\n",
    "    cdef:\n",
    "        double x, y\n",
    "        \n",
    "    def __cinit__(self, x, y):\n",
    "        self.x = x\n",
    "        self.y = y\n",
    "        \n",
    "    cpdef double area(self):\n",
    "        return self.x * self.y\n",
    "    \n",
    "    cpdef double perimeter(self):\n",
    "        return 2.0 * (self.x + self.y)"
   ]
  },
  {
   "cell_type": "code",
   "execution_count": null,
   "metadata": {},
   "outputs": [],
   "source": [
    "a = CyRectangle(1, 2)\n",
    "print(a.area(), a.perimeter())"
   ]
  },
  {
   "cell_type": "code",
   "execution_count": null,
   "metadata": {},
   "outputs": [],
   "source": [
    "%%cython\n",
    "from random import random\n",
    "\n",
    "cdef class CyRectangle:\n",
    "    cdef:\n",
    "        double x, y\n",
    "        \n",
    "    def __cinit__(self, x, y):\n",
    "        self.x = x\n",
    "        self.y = y\n",
    "        \n",
    "    cpdef double area(self):\n",
    "        return self.x * self.y\n",
    "    \n",
    "    cpdef double perimeter(self):\n",
    "        return 2.0 * (self.x + self.y)\n",
    "    \n",
    "cdef class CyRectangles:\n",
    "    cdef:\n",
    "        list rectangles\n",
    "        \n",
    "    def __cinit__(self, int n):\n",
    "        cdef unsigned int i\n",
    "        self.rectangles = []\n",
    "        for i in range(n):\n",
    "            self.rectangles.append(CyRectangle(random(), random()))\n",
    "            \n",
    "    cpdef double total_area(self):\n",
    "        cdef CyRectangle rect\n",
    "        cdef double area = 0.0\n",
    "        for rect in self.rectangles:\n",
    "            area += rect.area()\n",
    "            \n",
    "        return area"
   ]
  },
  {
   "cell_type": "code",
   "execution_count": null,
   "metadata": {},
   "outputs": [],
   "source": [
    "a = CyRectangles(100000)"
   ]
  },
  {
   "cell_type": "code",
   "execution_count": null,
   "metadata": {},
   "outputs": [],
   "source": [
    "a.total_area()"
   ]
  },
  {
   "cell_type": "markdown",
   "metadata": {},
   "source": [
    "## C-like Allocation/Dealllocation"
   ]
  },
  {
   "cell_type": "code",
   "execution_count": null,
   "metadata": {},
   "outputs": [],
   "source": [
    "%%cython\n",
    "\n",
    "from libc.stdlib cimport malloc, free\n",
    "\n",
    "\n",
    "cdef class CyRangeVector:\n",
    "    cdef:\n",
    "        int *data\n",
    "        int size\n",
    "        \n",
    "    def __cinit__(self, int start, int end):\n",
    "        cdef unsigned int i\n",
    "        if start >= end:\n",
    "            raise Exception(f'{start} >= {end}')\n",
    "        self.size = end - start\n",
    "        self.data = <int*>malloc(self.size * sizeof(int))\n",
    "        \n",
    "        for i in range(start, end):\n",
    "            self.data[i - start] = i\n",
    "            \n",
    "    def __getitem__(self, int i):\n",
    "        if i >= self.size or i < 0:\n",
    "            return -1\n",
    "\n",
    "        return self.data[i]\n",
    "    \n",
    "    def __dealloc__(self):\n",
    "        free(self.data)"
   ]
  },
  {
   "cell_type": "code",
   "execution_count": null,
   "metadata": {},
   "outputs": [],
   "source": [
    "my_range = CyRangeVector(10, 11000)\n",
    "my_range[2]"
   ]
  },
  {
   "cell_type": "markdown",
   "metadata": {},
   "source": [
    "## Interacting with the C++ Standard Template Library\n",
    "\n",
    "As long as we start using the C++ STL from inside Cython we have to switch to `language=c++`"
   ]
  },
  {
   "cell_type": "code",
   "execution_count": null,
   "metadata": {},
   "outputs": [],
   "source": [
    "%%cython\n",
    "\n",
    "# distutils: language=c++\n",
    "\n",
    "from libcpp.vector cimport vector\n",
    "\n",
    "cdef class CyRangeVector:\n",
    "    cdef:\n",
    "        vector[int] data\n",
    "        \n",
    "    def __cinit__(self, int start, int end):\n",
    "        cdef unsigned int i\n",
    "        if start >= end:\n",
    "            raise Exception(f'{start} >= {end}')\n",
    "        for i in range(start, end):\n",
    "            self.data.push_back(i)\n",
    "            \n",
    "    def __getitem__(self, int i):\n",
    "        if i >= self.data.size() or i < 0:\n",
    "            return None\n",
    "        \n",
    "        return self.data[i]"
   ]
  },
  {
   "cell_type": "code",
   "execution_count": null,
   "metadata": {},
   "outputs": [],
   "source": [
    "v = CyRangeVector(1, 20)\n",
    "print(v[1])"
   ]
  },
  {
   "cell_type": "code",
   "execution_count": null,
   "metadata": {},
   "outputs": [],
   "source": [
    "%%cython\n",
    "\n",
    "# distutils: language=c++\n",
    "\n",
    "from libcpp.vector cimport vector\n",
    "\n",
    "cpdef vector[int] cy_range(int start, int end):\n",
    "    cdef vector[int] v\n",
    "    cdef unsigned int i\n",
    "    for i in range(start, end):\n",
    "        v.push_back(i)\n",
    "    \n",
    "    return v"
   ]
  },
  {
   "cell_type": "code",
   "execution_count": null,
   "metadata": {},
   "outputs": [],
   "source": [
    "x = cy_range(1, 10)\n",
    "print(x, type(x))"
   ]
  },
  {
   "cell_type": "markdown",
   "metadata": {},
   "source": [
    "### Example of interacting with the `random` STL library (Cython 3)"
   ]
  },
  {
   "cell_type": "code",
   "execution_count": null,
   "metadata": {},
   "outputs": [],
   "source": [
    "%%cython\n",
    "\n",
    "#distutils: language=c++\n",
    "#distutils: extra_compile_args = -std=c++11\n",
    "#distutils: extra_link_args = -std=c++11\n",
    "\n",
    "\n",
    "from libcpp.random cimport random_device, mt19937, uniform_real_distribution\n",
    "\n",
    "cdef class my_uniform:\n",
    "    cdef:\n",
    "        mt19937 mt\n",
    "        uniform_real_distribution[double] uni\n",
    "        \n",
    "    def __cinit__(self, ):\n",
    "        cdef random_device rd\n",
    "        self.mt = mt19937(rd())\n",
    "        self.uni = uniform_real_distribution[double](0.0, 1.0)\n",
    "        \n",
    "    def rand_uni(self):\n",
    "        return self.uni(self.mt)"
   ]
  },
  {
   "cell_type": "code",
   "execution_count": null,
   "metadata": {},
   "outputs": [],
   "source": [
    "x = my_uniform()"
   ]
  },
  {
   "cell_type": "code",
   "execution_count": null,
   "metadata": {},
   "outputs": [],
   "source": [
    "%timeit x.rand_uni()"
   ]
  },
  {
   "cell_type": "code",
   "execution_count": null,
   "metadata": {},
   "outputs": [],
   "source": [
    "%%cython -a\n",
    "\n",
    "#distutils: language=c++\n",
    "#distutils: extra_compile_args = -std=c++11\n",
    "#distutils: extra_link_args = -std=c++11\n",
    "\n",
    "from cython cimport infer_types\n",
    "\n",
    "from libcpp.random cimport random_device, mt19937, uniform_real_distribution\n",
    "from libcpp.pair cimport pair\n",
    "\n",
    "cdef class my_uniform:\n",
    "    cdef:\n",
    "        mt19937 mt\n",
    "        uniform_real_distribution[double] uni\n",
    "        \n",
    "    def __cinit__(self, ):\n",
    "        cdef random_device rd\n",
    "        self.mt = mt19937(rd())\n",
    "        self.uni = uniform_real_distribution[double](0.0, 1.0)\n",
    "        \n",
    "    cdef rand_uni(self):\n",
    "        return pair[double, double](self.uni(self.mt), self.uni(self.mt))\n",
    "    \n",
    "@infer_types(True)\n",
    "cpdef pi_mc_random(n=1000):\n",
    "    '''Calculate PI using Monte Carlo method'''\n",
    "    in_circle = 0\n",
    "    my_uni = my_uniform()\n",
    "    for i in range(n):\n",
    "        x, y = my_uni.rand_uni()\n",
    "        if x * x + y * y <= 1.0:\n",
    "            in_circle += 1\n",
    "        \n",
    "    return 4.0 * in_circle / n"
   ]
  },
  {
   "cell_type": "code",
   "execution_count": null,
   "metadata": {},
   "outputs": [],
   "source": [
    "pi_mc_random(100000)"
   ]
  },
  {
   "cell_type": "markdown",
   "metadata": {},
   "source": [
    "### Additional STL libraries for Cython 0.29.x are available and you can look at their [definition files](https://github.com/cython/cython/tree/0.29.x/Cython/Includes/libcpp)\n",
    "\n",
    "### More STL libraries are available for Cython 3 [here](https://github.com/cython/cython/tree/master/Cython/Includes/libcpp)"
   ]
  },
  {
   "cell_type": "code",
   "execution_count": null,
   "metadata": {},
   "outputs": [],
   "source": []
  },
  {
   "cell_type": "code",
   "execution_count": null,
   "metadata": {},
   "outputs": [],
   "source": []
  }
 ],
 "metadata": {
  "kernelspec": {
   "display_name": "Python 3 (ipykernel)",
   "language": "python",
   "name": "python3"
  },
  "language_info": {
   "codemirror_mode": {
    "name": "ipython",
    "version": 3
   },
   "file_extension": ".py",
   "mimetype": "text/x-python",
   "name": "python",
   "nbconvert_exporter": "python",
   "pygments_lexer": "ipython3",
   "version": "3.11.1"
  }
 },
 "nbformat": 4,
 "nbformat_minor": 2
}
